{
 "cells": [
  {
   "cell_type": "markdown",
   "id": "cde788c8",
   "metadata": {},
   "source": [
    "# Employee Sentiment Analysis\n",
    "Objective:Analyze employee messages to label sentiment, calculate scores, rank employees, identify flight risks, and model sentiment trends.\n"
   ]
  },
  {
   "cell_type": "code",
   "execution_count": 6,
   "id": "95b1c112",
   "metadata": {},
   "outputs": [],
   "source": [
    "import pandas as pd\n",
    "import numpy as np\n",
    "import matplotlib.pyplot as plt\n",
    "import seaborn as sns\n",
    "from sklearn.model_selection import train_test_split\n",
    "from sklearn.linear_model import LinearRegression\n",
    "from sklearn.metrics import mean_squared_error\n"
   ]
  },
  {
   "cell_type": "code",
   "execution_count": 10,
   "id": "06bb2337",
   "metadata": {},
   "outputs": [],
   "source": [
    "import os\n",
    "os.environ[\"USE_TF\"] = \"0\"  # disable TensorFlow\n",
    "os.environ[\"TRANSFORMERS_NO_ADVISORY_WARNINGS\"] = \"1\"\n"
   ]
  },
  {
   "cell_type": "code",
   "execution_count": 13,
   "id": "d6729405",
   "metadata": {},
   "outputs": [
    {
     "name": "stdout",
     "output_type": "stream",
     "text": [
      "Sample Data:\n",
      "  Employee                                      Message       Date\n",
      "0        A      I love working here, the team is great! 2024-01-01\n",
      "1        B   I am frustrated with management decisions. 2024-01-16\n",
      "2        C            Things are okay, not much to say. 2024-01-31\n",
      "3        A        Excited about our new project launch! 2024-02-15\n",
      "4        B  I am tired of constant pressure and stress. 2024-03-01\n"
     ]
    }
   ],
   "source": [
    "data = {\n",
    "    'Employee': ['A', 'B', 'C', 'A', 'B', 'C', 'A', 'B', 'C', 'D'],\n",
    "    'Message': [\n",
    "        'I love working here, the team is great!',\n",
    "        'I am frustrated with management decisions.',\n",
    "        'Things are okay, not much to say.',\n",
    "        'Excited about our new project launch!',\n",
    "        'I am tired of constant pressure and stress.',\n",
    "        'Happy to receive recognition for my work.',\n",
    "        'The workload is too high this week.',\n",
    "        'Had a productive meeting today!',\n",
    "        'Not feeling appreciated at all.',\n",
    "        'The new manager is very supportive.'\n",
    "    ],\n",
    "    'Date': pd.date_range(start='2024-01-01', periods=10, freq='15D')\n",
    "}\n",
    "\n",
    "df = pd.DataFrame(data)\n",
    "print(\"Sample Data:\")\n",
    "print(df.head())"
   ]
  },
  {
   "cell_type": "code",
   "execution_count": 14,
   "id": "bfd0ea31",
   "metadata": {},
   "outputs": [
    {
     "name": "stdout",
     "output_type": "stream",
     "text": [
      "\n",
      "Sentiment Labeling Completed:\n",
      "  Employee                                      Message Sentiment\n",
      "0        A      I love working here, the team is great!  Positive\n",
      "1        B   I am frustrated with management decisions.  Negative\n",
      "2        C            Things are okay, not much to say.  Positive\n",
      "3        A        Excited about our new project launch!  Positive\n",
      "4        B  I am tired of constant pressure and stress.  Negative\n",
      "5        C    Happy to receive recognition for my work.  Positive\n",
      "6        A          The workload is too high this week.   Neutral\n",
      "7        B              Had a productive meeting today!   Neutral\n",
      "8        C              Not feeling appreciated at all.  Negative\n",
      "9        D          The new manager is very supportive.  Positive\n"
     ]
    }
   ],
   "source": [
    "## SENTIMENT LABELING\n",
    "\n",
    "analyzer = SentimentIntensityAnalyzer()\n",
    "\n",
    "def vader_label(text):\n",
    "    score = analyzer.polarity_scores(str(text))['compound']\n",
    "    if score >= 0.05:\n",
    "        return \"Positive\"\n",
    "    elif score <= -0.05:\n",
    "        return \"Negative\"\n",
    "    else:\n",
    "        return \"Neutral\"\n",
    "\n",
    "df['Sentiment'] = df['Message'].apply(vader_label)\n",
    "print(\"\\nSentiment Labeling Completed:\")\n",
    "print(df[['Employee', 'Message', 'Sentiment']])"
   ]
  },
  {
   "cell_type": "code",
   "execution_count": 15,
   "id": "1c5676a4",
   "metadata": {},
   "outputs": [
    {
     "name": "stderr",
     "output_type": "stream",
     "text": [
      "C:\\Users\\preri\\AppData\\Local\\Temp\\ipykernel_13820\\975947435.py:3: FutureWarning: \n",
      "\n",
      "Passing `palette` without assigning `hue` is deprecated and will be removed in v0.14.0. Assign the `x` variable to `hue` and set `legend=False` for the same effect.\n",
      "\n",
      "  sns.countplot(data=df, x='Sentiment', palette='coolwarm')\n"
     ]
    },
    {
     "data": {
      "image/png": "[encoded data removed]",
      "text/plain": [
       "<Figure size 640x480 with 1 Axes>"
      ]
     },
     "metadata": {},
     "output_type": "display_data"
    },
    {
     "name": "stdout",
     "output_type": "stream",
     "text": [
      "\n",
      "Sentiment Counts by Employee:\n",
      "Employee  Sentiment\n",
      "A         Positive     2\n",
      "          Neutral      1\n",
      "B         Negative     2\n",
      "          Neutral      1\n",
      "C         Positive     2\n",
      "          Negative     1\n",
      "D         Positive     1\n",
      "Name: count, dtype: int64\n"
     ]
    }
   ],
   "source": [
    "#EXPLORATORY DATA ANALYSIS (EDA)\n",
    "\n",
    "sns.countplot(data=df, x='Sentiment', palette='coolwarm')\n",
    "plt.title('Sentiment Distribution')\n",
    "plt.show()\n",
    "\n",
    "print(\"\\nSentiment Counts by Employee:\")\n",
    "print(df.groupby('Employee')['Sentiment'].value_counts())\n"
   ]
  },
  {
   "cell_type": "code",
   "execution_count": 16,
   "id": "889ddcc1",
   "metadata": {},
   "outputs": [
    {
     "name": "stdout",
     "output_type": "stream",
     "text": [
      "\n",
      "Monthly Sentiment Scores:\n",
      "  Employee    Month  Sentiment_Score\n",
      "0        A  2024-01                1\n",
      "1        A  2024-02                1\n",
      "2        A  2024-03                0\n",
      "3        B  2024-01               -1\n",
      "4        B  2024-03               -1\n",
      "5        B  2024-04                0\n",
      "6        C  2024-01                1\n",
      "7        C  2024-03                1\n",
      "8        C  2024-04               -1\n",
      "9        D  2024-05                1\n"
     ]
    }
   ],
   "source": [
    "# MONTHLY SENTIMENT SCORE\n",
    "\n",
    "sentiment_map = {'Positive': 1, 'Neutral': 0, 'Negative': -1}\n",
    "df['Sentiment_Score'] = df['Sentiment'].map(sentiment_map)\n",
    "df['Month'] = df['Date'].dt.to_period('M')\n",
    "\n",
    "monthly_scores = df.groupby(['Employee', 'Month'])['Sentiment_Score'].sum().reset_index()\n",
    "print(\"\\nMonthly Sentiment Scores:\")\n",
    "print(monthly_scores)"
   ]
  },
  {
   "cell_type": "code",
   "execution_count": 17,
   "id": "37910c04",
   "metadata": {},
   "outputs": [
    {
     "name": "stdout",
     "output_type": "stream",
     "text": [
      "\n",
      "Top 3 Positive Employees per Month:\n",
      "  Employee    Month  Sentiment_Score\n",
      "0        A  2024-01                1\n",
      "1        A  2024-02                1\n",
      "6        C  2024-01                1\n",
      "7        C  2024-03                1\n",
      "9        D  2024-05                1\n",
      "2        A  2024-03                0\n",
      "5        B  2024-04                0\n",
      "3        B  2024-01               -1\n",
      "4        B  2024-03               -1\n",
      "8        C  2024-04               -1\n",
      "\n",
      "Top 3 Negative Employees per Month:\n",
      "  Employee    Month  Sentiment_Score\n",
      "3        B  2024-01               -1\n",
      "4        B  2024-03               -1\n",
      "8        C  2024-04               -1\n",
      "2        A  2024-03                0\n",
      "5        B  2024-04                0\n",
      "0        A  2024-01                1\n",
      "1        A  2024-02                1\n",
      "6        C  2024-01                1\n",
      "7        C  2024-03                1\n",
      "9        D  2024-05                1\n"
     ]
    }
   ],
   "source": [
    "#EMPLOYEE RANKING\n",
    "\n",
    "top_positive = monthly_scores.sort_values(['Sentiment_Score', 'Employee'], ascending=[False, True]).groupby('Month').head(3)\n",
    "top_negative = monthly_scores.sort_values(['Sentiment_Score', 'Employee'], ascending=[True, True]).groupby('Month').head(3)\n",
    "\n",
    "print(\"\\nTop 3 Positive Employees per Month:\")\n",
    "print(top_positive)\n",
    "print(\"\\nTop 3 Negative Employees per Month:\")\n",
    "print(top_negative)\n"
   ]
  },
  {
   "cell_type": "code",
   "execution_count": 18,
   "id": "dde34ba2",
   "metadata": {},
   "outputs": [
    {
     "name": "stdout",
     "output_type": "stream",
     "text": [
      "\n",
      "⚠️ Flight Risk Employees: None\n"
     ]
    }
   ],
   "source": [
    "# FLIGHT RISK DETECTION\n",
    "\n",
    "df['Date'] = pd.to_datetime(df['Date'])\n",
    "flight_risk = (\n",
    "    df[df['Sentiment'] == 'Negative']\n",
    "    .groupby(['Employee', pd.Grouper(key='Date', freq='30D')])\n",
    "    .size()\n",
    "    .reset_index(name='Negative_Count')\n",
    ")\n",
    "risk_employees = flight_risk[flight_risk['Negative_Count'] >= 4]['Employee'].unique()\n",
    "print(\"\\n⚠️ Flight Risk Employees:\", risk_employees if len(risk_employees) > 0 else \"None\")\n"
   ]
  },
  {
   "cell_type": "code",
   "execution_count": 19,
   "id": "7f69945e",
   "metadata": {},
   "outputs": [
    {
     "name": "stdout",
     "output_type": "stream",
     "text": [
      "\n",
      "Model Evaluation:\n",
      "Coefficient: -0.15384615384615388\n",
      "Intercept: 1.461538461538462\n",
      "R² Score: -1.1035502958579881\n"
     ]
    }
   ],
   "source": [
    "#LINEAR REGRESSION (Sentiment Trend Prediction)\n",
    "\n",
    "df['Message_Length'] = df['Message'].apply(lambda x: len(str(x).split()))\n",
    "X = df[['Message_Length']]\n",
    "y = df['Sentiment_Score']\n",
    "\n",
    "X_train, X_test, y_train, y_test = train_test_split(X, y, test_size=0.3, random_state=42)\n",
    "model = LinearRegression()\n",
    "model.fit(X_train, y_train)\n",
    "\n",
    "print(\"\\nModel Evaluation:\")\n",
    "print(\"Coefficient:\", model.coef_[0])\n",
    "print(\"Intercept:\", model.intercept_)\n",
    "print(\"R² Score:\", model.score(X_test, y_test))"
   ]
  },
  {
   "cell_type": "code",
   "execution_count": null,
   "id": "8db3efea",
   "metadata": {},
   "outputs": [],
   "source": []
  }
 ],
 "metadata": {
  "kernelspec": {
   "display_name": "Python 3 (ipykernel)",
   "language": "python",
   "name": "python3"
  },
  "language_info": {
   "codemirror_mode": {
    "name": "ipython",
    "version": 3
   },
   "file_extension": ".py",
   "mimetype": "text/x-python",
   "name": "python",
   "nbconvert_exporter": "python",
   "pygments_lexer": "ipython3",
   "version": "3.11.5"
  }
 },
 "nbformat": 4,
 "nbformat_minor": 5
}
